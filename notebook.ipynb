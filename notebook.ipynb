{
 "cells": [
  {
   "cell_type": "code",
   "execution_count": 2,
   "metadata": {},
   "outputs": [],
   "source": [
    "import numpy as np\n",
    "import torch\n",
    "import torch.nn as nn\n",
    "from torchvision.models import resnet18, ResNet18_Weights\n",
    "from torchvision.io import read_image\n",
    "import torchvision.transforms.functional as fn\n",
    "import matplotlib.pyplot as plt\n",
    "import matplotlib.patches as patches\n",
    "\n",
    "device = 'cuda' if torch.cuda.is_available() else 'cpu'"
   ]
  },
  {
   "cell_type": "code",
   "execution_count": 3,
   "metadata": {},
   "outputs": [],
   "source": [
    "class SupervisedGazeEstimator(nn.Module):\n",
    "  def __init__(self):\n",
    "    super().__init__()\n",
    "    self.transforms = ResNet18_Weights.DEFAULT.transforms()\n",
    "    self.resnet18 = resnet18(weights=ResNet18_Weights.DEFAULT).eval()\n",
    "    self.linear = nn.Linear(self.resnet18.fc.out_features, 2)\n",
    "\n",
    "  def forward(self, data):\n",
    "    x = self.transforms(x)\n",
    "    x = self.resnet18(data)\n",
    "    return self.linear(x)\n"
   ]
  },
  {
   "cell_type": "code",
   "execution_count": 4,
   "metadata": {},
   "outputs": [
    {
     "name": "stderr",
     "output_type": "stream",
     "text": [
      "Downloading: \"https://download.pytorch.org/models/resnet18-f37072fd.pth\" to C:\\Users\\gijsa/.cache\\torch\\hub\\checkpoints\\resnet18-f37072fd.pth\n"
     ]
    },
    {
     "data": {
      "application/vnd.jupyter.widget-view+json": {
       "model_id": "7d4782e0e0434b56b85a20fa488dc459",
       "version_major": 2,
       "version_minor": 0
      },
      "text/plain": [
       "HBox(children=(IntProgress(value=0, max=46830571), HTML(value='')))"
      ]
     },
     "metadata": {},
     "output_type": "display_data"
    },
    {
     "name": "stdout",
     "output_type": "stream",
     "text": [
      "\n"
     ]
    }
   ],
   "source": [
    "model = SupervisedGazeEstimator().to(device)"
   ]
  },
  {
   "cell_type": "code",
   "execution_count": 7,
   "metadata": {},
   "outputs": [
    {
     "data": {
      "image/png": "[encoded data removed]",
      "text/plain": [
       "<Figure size 432x288 with 20 Axes>"
      ]
     },
     "metadata": {},
     "output_type": "display_data"
    }
   ],
   "source": [
    "left_landmarks = np.load('data/1/left_landmarks.npy')\n",
    "\n",
    "fig, axs = plt.subplots(nrows=20, ncols=1, squeeze=False)\n",
    "for i in range(20):\n",
    "    img = read_image(f'data/1/{i}.png')\n",
    "\n",
    "    tlx, tly, brx, bry = left_landmarks[i]\n",
    "\n",
    "    cropped = fn.crop(img, tly, tlx, bry - tly, brx - tlx)\n",
    "\n",
    "    axs[i, 0].imshow(cropped.permute(1, 2, 0))\n",
    "    axs[i, 0].set(xticklabels=[], yticklabels=[], xticks=[], yticks=[])\n",
    "plt.show()"
   ]
  },
  {
   "cell_type": "code",
   "execution_count": 14,
   "metadata": {},
   "outputs": [
    {
     "name": "stdout",
     "output_type": "stream",
     "text": [
      "(5880, 4)\n"
     ]
    }
   ],
   "source": [
    "right_landmarks = np.load('data/mix/left_landmark_mix.npy')\n",
    "print(right_landmarks.shape)"
   ]
  },
  {
   "cell_type": "code",
   "execution_count": null,
   "metadata": {},
   "outputs": [],
   "source": []
  }
 ],
 "metadata": {
  "kernelspec": {
   "display_name": "Python 3",
   "language": "python",
   "name": "python3"
  },
  "language_info": {
   "codemirror_mode": {
    "name": "ipython",
    "version": 3
   },
   "file_extension": ".py",
   "mimetype": "text/x-python",
   "name": "python",
   "nbconvert_exporter": "python",
   "pygments_lexer": "ipython3",
   "version": "3.7.3"
  },
  "orig_nbformat": 4
 },
 "nbformat": 4,
 "nbformat_minor": 2
}
